{
 "cells": [
  {
   "cell_type": "code",
   "execution_count": 2,
   "id": "91266e40-25ca-4cca-bee4-7137d5a16a2e",
   "metadata": {},
   "outputs": [
    {
     "name": "stdin",
     "output_type": "stream",
     "text": [
      "Enter the first name:-   Garima\n",
      "Enter the last name:-   Karki\n"
     ]
    },
    {
     "name": "stdout",
     "output_type": "stream",
     "text": [
      "Karki Garima\n"
     ]
    }
   ],
   "source": [
    "\n",
    "# PART2:1 Write a Python program that takes a user's first and last name as input and print them in reverse order with a space between them.first_name = input(\"Enter the first name:-  \")\n",
    "first_name = input(\"Enter the first name:-  \")\n",
    "last_name = input(\"Enter the last name:-  \")\n",
    "\n",
    "reversed_name = last_name + \" \" + first_name\n",
    "print(reversed_name)"
   ]
  },
  {
   "cell_type": "code",
   "execution_count": 4,
   "id": "010bd125-8c5e-4e09-8845-9c3f1dc6d34b",
   "metadata": {},
   "outputs": [
    {
     "name": "stdin",
     "output_type": "stream",
     "text": [
      "Enter the string:-   First assignment of Python\n"
     ]
    },
    {
     "name": "stdout",
     "output_type": "stream",
     "text": [
      "First assignment of python\n",
      "Hello, World!\n"
     ]
    }
   ],
   "source": [
    "# 1 Use at least two string methods and explain their purpose in the comments.\n",
    "\n",
    "text = input(\"Enter the string:-  \")\n",
    "print(text.capitalize())\n",
    "\n",
    "'''\n",
    ".strip() --->  The strip() method in Python is used to remove leading and trailing whitespace (spaces, tabs, newlines) from a string'''\n",
    "\n",
    "text1 = \"   Hello, World!   \"\n",
    "stripped_text = text1.strip()\n",
    "print(stripped_text)"
   ]
  },
  {
   "cell_type": "code",
   "execution_count": 5,
   "id": "68ced2fb-f20d-4877-96a0-2fe9c1ad0af5",
   "metadata": {},
   "outputs": [
    {
     "name": "stdin",
     "output_type": "stream",
     "text": [
      "Enter the number:-  10\n"
     ]
    },
    {
     "name": "stdout",
     "output_type": "stream",
     "text": [
      "<class 'int'>\n",
      "<class 'float'>\n",
      "<class 'complex'>\n"
     ]
    }
   ],
   "source": [
    "# Part2: 2. Numeric DataTypes and Conversion Functions\n",
    "\n",
    "# Write a python program that take input from user, convert it to different numeric datatype(integer, float, complex) \n",
    "#and displays the converted value.\n",
    "\n",
    "user_input = input(\"Enter the number:- \")\n",
    "\n",
    "# Convert input it into integer.\n",
    "int_value = int(user_input)         # int = It convert the user input into integer .\n",
    "print(type(int_value))\n",
    "\n",
    "# Convert input into float.\n",
    "float_value = float(user_input)    # float = It convert the user input into floating .\n",
    "print(type(float_value))\n",
    "\n",
    "# Convert input into complex.\n",
    "complex_value = complex(user_input)      # complex = It convert the user input into complex .\n",
    "print(type(complex_value))"
   ]
  },
  {
   "cell_type": "code",
   "execution_count": 6,
   "id": "c1bfb2f9-dae0-404f-a843-a0149677a77d",
   "metadata": {},
   "outputs": [
    {
     "name": "stdin",
     "output_type": "stream",
     "text": [
      "Enter the length of the rectangle:-  99\n",
      "Enter the width of the rectangle:-  60\n"
     ]
    },
    {
     "name": "stdout",
     "output_type": "stream",
     "text": [
      "Area of rectangle is  5940.0\n"
     ]
    }
   ],
   "source": [
    "# Part2 3. Simple Input and Output\n",
    "# Write a python program to calculate area of rectangle.\n",
    "length = float(input(\"Enter the length of the rectangle:- \"))\n",
    "width = float(input(\"Enter the width of the rectangle:- \"))\n",
    "\n",
    "area = length * width\n",
    "print(\"Area of rectangle is \", area)\n"
   ]
  },
  {
   "cell_type": "code",
   "execution_count": 7,
   "id": "95244463-61bb-47d6-831b-0b82db524e51",
   "metadata": {},
   "outputs": [
    {
     "name": "stdin",
     "output_type": "stream",
     "text": [
      "Enter the length of the rectangle:-  99\n",
      "Enter the width of the rectangle:-  60\n"
     ]
    },
    {
     "name": "stdout",
     "output_type": "stream",
     "text": [
      "Area of rectangle is  5940.0\n",
      "Area of rectangle is 5940.00\n"
     ]
    }
   ],
   "source": [
    "# 4. Using fromat() function.\n",
    "#Modify the area program to format the output so it displays the area with two decimal places.\n",
    "length = float(input(\"Enter the length of the rectangle:- \"))\n",
    "width = float(input(\"Enter the width of the rectangle:- \"))\n",
    "\n",
    "area = length * width\n",
    "print(\"Area of rectangle is \", area)\n",
    "# Using fromat() function.\n",
    "print(\"Area of rectangle is {:.2f}\".format(area))\n"
   ]
  },
  {
   "cell_type": "code",
   "execution_count": 8,
   "id": "80300688-285b-46ac-9971-03e44fcbc634",
   "metadata": {
    "collapsed": true,
    "jupyter": {
     "outputs_hidden": true
    },
    "scrolled": true
   },
   "outputs": [
    {
     "name": "stdin",
     "output_type": "stream",
     "text": [
      "Enter the first value 6\n",
      "Enter the second value 9\n",
      "Enter the third value  10\n"
     ]
    },
    {
     "name": "stdout",
     "output_type": "stream",
     "text": [
      "The average of the three numbers is: 8.333333\n"
     ]
    }
   ],
   "source": [
    "# Part2 5. The % Method and Print function\n",
    "\n",
    "# Write a Python Script that take three number as input and prints their average using the % method for string formatting.\n",
    "num1=float(input(\"Enter the first value\"))\n",
    "num2=float(input(\"Enter the second value\"))\n",
    "num3=float(input(\"Enter the third value \"))\n",
    "\n",
    "average = (num1+num2+num3)/3\n",
    "\n",
    "# use the print function to display a message that states , \"The average of the number is: [calculated average]\".\n",
    "print(\"The average of the three numbers is: %2f\" % average)\n"
   ]
  },
  {
   "cell_type": "code",
   "execution_count": 10,
   "id": "6dcd437b-c0d0-4439-97b7-09af0bfb3f9a",
   "metadata": {
    "jupyter": {
     "source_hidden": true
    }
   },
   "outputs": [
    {
     "name": "stdin",
     "output_type": "stream",
     "text": [
      "Enter the number:-  0\n"
     ]
    },
    {
     "name": "stdout",
     "output_type": "stream",
     "text": [
      "Zero\n"
     ]
    }
   ],
   "source": [
    "# PART 3 :-  LANGUAGE COMPONENT\n",
    "# 1. Control Flow (if Statements and Loops)\n",
    "\n",
    "# Write a python program that asks the user for a number and determines wether it is positive, negative and zero.\n",
    "\n",
    "num = int(input(\"Enter the number:- \"))\n",
    "\n",
    "if(num > 0):\n",
    "    print(\"Positive\")\n",
    "elif( num < 0):\n",
    "    print(\"Negative\")\n",
    "else:\n",
    "    print(\"Zero\")\n"
   ]
  },
  {
   "cell_type": "code",
   "execution_count": 11,
   "id": "2819c1db-7eb4-459b-a4f7-b71e074cb14a",
   "metadata": {},
   "outputs": [
    {
     "name": "stdin",
     "output_type": "stream",
     "text": [
      "Enter the number\n",
      " 5\n",
      "Enter the number\n",
      " exit\n"
     ]
    },
    {
     "name": "stdout",
     "output_type": "stream",
     "text": [
      "adios!\n"
     ]
    }
   ],
   "source": [
    "# PART3 1\n",
    "#Implement a loop that continues to ask the user for a number until they enter 'exit'.\n",
    "while True:\n",
    "    user = input(\"Enter the number\\n\")\n",
    "    \n",
    "    if user == 'exit':\n",
    "        print(\"adios!\")\n",
    "        break"
   ]
  },
  {
   "cell_type": "code",
   "execution_count": 12,
   "id": "edc7120b-e781-41ec-990e-f136dc566aa0",
   "metadata": {},
   "outputs": [
    {
     "name": "stdin",
     "output_type": "stream",
     "text": [
      "Enter the number\n",
      " 7\n"
     ]
    },
    {
     "name": "stdout",
     "output_type": "stream",
     "text": [
      "Number is  7\n"
     ]
    },
    {
     "name": "stdin",
     "output_type": "stream",
     "text": [
      "Enter the number\n",
      " exit\n"
     ]
    },
    {
     "name": "stdout",
     "output_type": "stream",
     "text": [
      "adios!\n"
     ]
    }
   ],
   "source": [
    "# Part3,1\n",
    "# Use break to exit the loop and continue to prompt for a new number if the input is not 'exit'.\n",
    "while True:\n",
    "    user_prompt = input(\"Enter the number\\n\")\n",
    "    \n",
    "    if user_prompt == 'exit':\n",
    "        print(\"adios!\")\n",
    "        break\n",
    "    \n",
    "    try:\n",
    "        number = int(user_prompt)\n",
    "        print(\"Number is \", number)\n",
    "        \n",
    "    except ValueError:\n",
    "        print(\"Number is not valid! Try again\")\n",
    "        continue"
   ]
  },
  {
   "cell_type": "code",
   "execution_count": 13,
   "id": "a6175496-8f91-47b2-b7f3-761378cf763e",
   "metadata": {},
   "outputs": [
    {
     "name": "stdin",
     "output_type": "stream",
     "text": [
      "Enter the first number:  3\n",
      "Enter the second number:  4\n"
     ]
    },
    {
     "name": "stdout",
     "output_type": "stream",
     "text": [
      "One number is even and the other is odd.\n"
     ]
    }
   ],
   "source": [
    "# Part3 2. Reational and Logical Operators\n",
    "\n",
    "# Create a python script that takes two members as input and print wether both members are even, odd or one of \n",
    "# each using relational and logocal operator.\n",
    "num1 = int(input(\"Enter the first number: \"))\n",
    "num2 = int(input(\"Enter the second number: \"))\n",
    "\n",
    "if num1 % 2 == 0 and num2 % 2 == 0:\n",
    "    print(\"Both numbers are even.\")\n",
    "    \n",
    "elif num1 % 2 != 0 and num2 % 2 != 0:\n",
    "    print(\"Both numbers are odd.\")\n",
    "\n",
    "else:\n",
    "    print(\"One number is even and the other is odd.\")"
   ]
  },
  {
   "cell_type": "code",
   "execution_count": 14,
   "id": "f34a8582-68b8-4a14-8e84-44b34d76d1db",
   "metadata": {},
   "outputs": [
    {
     "name": "stdin",
     "output_type": "stream",
     "text": [
      "Enter an integer:  5\n"
     ]
    },
    {
     "name": "stdout",
     "output_type": "stream",
     "text": [
      "Binary: 101\n",
      "Octal: 5\n",
      "Hexadecimal: 5\n"
     ]
    }
   ],
   "source": [
    "# 3. For Loop and Bitwise Operator\n",
    "\n",
    "# Write a python program that takes an integer input and prints its binary, octal and hexadecimal equivalents \n",
    "# using a for loop and bitwise operator.\n",
    "\n",
    "num = int(input(\"Enter an integer: \"))\n",
    "\n",
    "# Define a dictionary to store the number bases and their respective formats\n",
    "formats = {\n",
    "    'Binary': 2,\n",
    "    'Octal': 8,\n",
    "    'Hexadecimal': 16\n",
    "}\n",
    "for base_name, base in formats.items():\n",
    "    if base == 2:\n",
    "        # Convert to binary using bitwise shift and mask\n",
    "        binary = \"\"\n",
    "        for i in range(num.bit_length() - 1, -1, -1):\n",
    "            binary += str((num >> i) & 1)\n",
    "        print(f\"{base_name}: {binary}\")\n",
    "    elif base == 8:\n",
    "        # Convert to octal using format function\n",
    "        octal = format(num, 'o')\n",
    "        print(f\"{base_name}: {octal}\")\n",
    "    elif base == 16:\n",
    "        # Convert to hexadecimal using format function\n",
    "        hexadecimal = format(num, 'x').upper()\n",
    "        print(f\"{base_name}: {hexadecimal}\")"
   ]
  },
  {
   "cell_type": "code",
   "execution_count": null,
   "id": "b081d979-f6f7-432f-9ed7-baf476d11a3f",
   "metadata": {},
   "outputs": [],
   "source": []
  }
 ],
 "metadata": {
  "kernelspec": {
   "display_name": "Python 3 (ipykernel)",
   "language": "python",
   "name": "python3"
  },
  "language_info": {
   "codemirror_mode": {
    "name": "ipython",
    "version": 3
   },
   "file_extension": ".py",
   "mimetype": "text/x-python",
   "name": "python",
   "nbconvert_exporter": "python",
   "pygments_lexer": "ipython3",
   "version": "3.12.4"
  }
 },
 "nbformat": 4,
 "nbformat_minor": 5
}
